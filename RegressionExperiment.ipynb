# -*- coding: utf-8 -*-
"""
Created on Wed Dec  6 15:56:41 2017

@author: siye
"""

from sklearn import datasets
from sklearn import model_selection
import numpy as np
import matplotlib.pyplot as plt

#获取数据
def get_data():
    X,y = datasets.load_svmlight_file("C:/Users/siye/Desktop/housing_scale.txt",n_features=13)
    X = np.matrix(X.toarray())
    ones = np.matrix(np.ones((X.shape[0],1)))  
    X = np.concatenate((ones,X),axis=1)
    y = np.matrix(y).T
    train_x,test_x,train_y,test_y = model_selection.train_test_split(X,y,test_size=0.2)   
    return train_x,test_x,train_y,test_y


def loss(X,y,w):
    m = y.shape[0] #读取矩阵的长度
    return 0.5*(((y-X*w).T*(y-X*w))).sum()/m

def gradient(X,y,w): 
    return X.T*(X*w-y)

def gradientDecent(X,y,w,alpha,time_iteration,valid_x,valid_y):
    m = y.shape[0]
    train_loss = []
    valid_loss = []
    print("Original train loss:%f"%loss(X,y,w))
    train_loss.append(loss(X,y,w))
    print("Original validation loss:%f"%loss(valid_x,valid_y,w))
    valid_loss.append(loss(valid_x,valid_y,w))
    print("")
    
    for i in range(time_iteration):
        w=w-gradient(X,y,w)*alpha/m 
        #train_loss=loss(X,y,w)
        #valid_loss=loss(valid_x,valid_y,w)  #是valid_x,valid_y
        train_loss.append(loss(X,y,w))
        valid_loss.append(loss(valid_x,valid_y,w))
    
    return w,train_loss,valid_loss

def train(X,y,valid_x,valid_y):
    m=X.shape[1]
    init_w=np.matrix(np.zeros(m)).T
    print("Begin to train")
    #学习率
    alpha=0.13
    #迭代次数
    time_iteration=50
    print("Learning rate alpha: %f"%alpha)
    print("Iteration times:%d"%time_iteration)
    print("")
    w,train_loss,valid_loss=gradientDecent(X,y,init_w,alpha,time_iteration,valid_x,valid_y)
    #绘图
    plt.plot(np.arange(time_iteration+1),train_loss,label='train loss')
    plt.plot(np.arange(time_iteration+1),valid_loss,label='validation loss')
    plt.legend(loc=1)
    plt.xlabel('times_of_iteration')
    plt.ylabel('loss')
    return w,train_loss,valid_loss

train_x,test_x,train_y,test_y = get_data()
w,train_loss,val_loss = train(train_x,train_y,test_x,test_y)
print("final train loss:%f"%train_loss.pop())
print("final validation loss:%f"%val_loss.pop())